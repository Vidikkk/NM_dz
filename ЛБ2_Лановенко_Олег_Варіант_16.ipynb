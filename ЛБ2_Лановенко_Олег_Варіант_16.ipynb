{
  "nbformat": 4,
  "nbformat_minor": 0,
  "metadata": {
    "colab": {
      "provenance": [],
      "include_colab_link": true
    },
    "kernelspec": {
      "name": "python3",
      "display_name": "Python 3"
    },
    "language_info": {
      "name": "python"
    }
  },
  "cells": [
    {
      "cell_type": "markdown",
      "metadata": {
        "id": "view-in-github",
        "colab_type": "text"
      },
      "source": [
        "<a href=\"https://colab.research.google.com/github/Vidikkk/NM_dz/blob/main/%D0%9B%D0%912_%D0%9B%D0%B0%D0%BD%D0%BE%D0%B2%D0%B5%D0%BD%D0%BA%D0%BE_%D0%9E%D0%BB%D0%B5%D0%B3_%D0%92%D0%B0%D1%80%D1%96%D0%B0%D0%BD%D1%82_16.ipynb\" target=\"_parent\"><img src=\"https://colab.research.google.com/assets/colab-badge.svg\" alt=\"Open In Colab\"/></a>"
      ]
    },
    {
      "cell_type": "markdown",
      "source": [
        "Лабораторна робота 2\n",
        "Лановенко Олег\n",
        "Варінт 16\n",
        "ФІТ 2-10\n"
      ],
      "metadata": {
        "id": "VX7ln4cOroOa"
      }
    },
    {
      "cell_type": "markdown",
      "source": [
        "1. Метод ділення навпіл."
      ],
      "metadata": {
        "id": "VgrW9zRY0dVt"
      }
    },
    {
      "cell_type": "code",
      "execution_count": 22,
      "metadata": {
        "colab": {
          "base_uri": "https://localhost:8080/"
        },
        "id": "iOTNXySVyeHy",
        "outputId": "2ffaeb9a-5ec0-4288-9be4-c5f2e230f81d"
      },
      "outputs": [
        {
          "output_type": "stream",
          "name": "stdout",
          "text": [
            "Результати обчислень\n",
            "\n",
            "           a      F(a)         c      F(c)         b      F(b)\n",
            "0  -3.000000  0.977954 -2.000000  1.135204 -1.000000 -0.454649\n",
            "1  -2.000000  1.135204 -1.500000 -0.123480 -1.000000 -0.454649\n",
            "2  -2.000000  1.135204 -1.750000  0.405593 -1.500000 -0.123480\n",
            "3  -1.750000  0.405593 -1.625000  0.109040 -1.500000 -0.123480\n",
            "4  -1.625000  0.109040 -1.562500 -0.015587 -1.500000 -0.123480\n",
            "5  -1.625000  0.109040 -1.593750  0.044659 -1.562500 -0.015587\n",
            "6  -1.593750  0.044659 -1.578125  0.014015 -1.562500 -0.015587\n",
            "7  -1.578125  0.014015 -1.570312 -0.000917 -1.562500 -0.015587\n",
            "8  -1.578125  0.014015 -1.574219  0.006516 -1.570312 -0.000917\n",
            "9  -1.574219  0.006516 -1.572266  0.002791 -1.570312 -0.000917\n",
            "10 -1.572266  0.002791 -1.571289  0.000935 -1.570312 -0.000917\n",
            "11 -1.571289  0.000935 -1.570801  0.000008 -1.570312 -0.000917\n",
            "\n",
            "В точці с =  -1.57080078125 , f(c) =  8.448383306135629e-06\n"
          ]
        }
      ],
      "source": [
        "import numpy as np\n",
        "import pandas as pd\n",
        "\n",
        "# Визначаємо функцію\n",
        "def f (x):\n",
        "    y = np.cos(x)*np.sin(x)*(x**2+x+1)\n",
        "    return y\n",
        "# Визначаємо границі відрізку\n",
        "a = -3\n",
        "b = -1\n",
        "# Визначаємо точність розв'язку\n",
        "h = 0.0001\n",
        "# Поділяємо відрізок навпіл\n",
        "c = (a+b)/2\n",
        "# Зберігаємо результати обчислень\n",
        "data_A = [a]\n",
        "data_B = [b]\n",
        "data_C = [c]\n",
        "data_F_A = [f(a)]\n",
        "data_F_B = [f(b)]\n",
        "data_F_C = [f(c)]\n",
        "# Перевіряємо досягнення точності\n",
        "while abs(f(c)) > h:\n",
        "    # Звужуємо відрізок\n",
        "    if np.sign(f(c)) == np.sign(f(a)):\n",
        "        a = c\n",
        "    else:\n",
        "        b = c\n",
        "    # Поділяємо відрізок навпіл\n",
        "    c = (a+b)/2\n",
        "    # Зберігаємо результати обчислень\n",
        "    data_A.append(a)\n",
        "    data_B.append(b)\n",
        "    data_C.append(c)\n",
        "    data_F_A.append(f(a))\n",
        "    data_F_B.append(f(b))\n",
        "    data_F_C.append(f(c))\n",
        "# Відображаємо результати обчислень\n",
        "print('Результати обчислень')\n",
        "print()\n",
        "data = pd.DataFrame({'a': data_A,\n",
        "                     'F(a)': data_F_A,\n",
        "                     'c': data_C,\n",
        "                     'F(c)': data_F_C,\n",
        "                     'b': data_B,\n",
        "                     'F(b)': data_F_B})\n",
        "print(data)\n",
        "# Відображаємо наближений корінь рівняння\n",
        "print()\n",
        "print('В точці с = ', c, ', f(c) = ', f(c))"
      ]
    },
    {
      "cell_type": "markdown",
      "source": [
        "2. Метод ділення навпіл"
      ],
      "metadata": {
        "id": "5hYa7ucn0PEN"
      }
    },
    {
      "cell_type": "code",
      "source": [
        "import numpy as np\n",
        "import scipy.optimize as sp\n",
        "\n",
        "def f(x):\n",
        "    y = np.cos(x)*np.sin(x)*(x**2+x+1)\n",
        "    return y\n",
        "\n",
        "a, b = -3, -1\n",
        "tol = 1.e-3\n",
        "\n",
        "x = sp.bisect(f, a, b,(),tol) #функція для метода\n",
        "\n",
        "print('The approximate solution x is:', x)\n",
        "print('And the value f(x) is:', f(x))"
      ],
      "metadata": {
        "colab": {
          "base_uri": "https://localhost:8080/"
        },
        "id": "ML3KEw5q0H1e",
        "outputId": "3c9d51c2-eb98-4453-ed74-6cb1400e0ab3"
      },
      "execution_count": 23,
      "outputs": [
        {
          "output_type": "stream",
          "name": "stdout",
          "text": [
            "The approximate solution x is: -1.5712890625\n",
            "And the value f(x) is: 0.0009350448126615916\n"
          ]
        }
      ]
    },
    {
      "cell_type": "markdown",
      "source": [
        "3. Метод хорд"
      ],
      "metadata": {
        "id": "sYf0IvR41ufd"
      }
    },
    {
      "cell_type": "code",
      "source": [
        "import numpy as np\n",
        "import pandas as pd\n",
        "# Визначаємо функцію\n",
        "def f(x):\n",
        "    y = np.cos(x)*np.sin(x)*(x**2+x+1)\n",
        "    return y\n",
        "# Визначаємо межі відрізку\n",
        "a = -3\n",
        "b = -1\n",
        "# Визначаємо точність розв'язку\n",
        "h = 0.0001\n",
        "# Точка, де хорда перетинає вісь 0x\n",
        "c = (f(a)*b-a*f(b))/(f(a)-f(b))\n",
        "\n",
        "# Зберігаємо результати обчислень\n",
        "data_A = [a]\n",
        "data_B = [b]\n",
        "data_C = [c]\n",
        "data_F_A = [f(a)]\n",
        "data_F_B = [f(b)]\n",
        "data_F_C = [f(c)]\n",
        "# Перевіряємо досягнення точності\n",
        "while abs(f(c)) > h:\n",
        "    # Звужуємо відрізок\n",
        "    if np.sign(f(c)) == np.sign(f(a)):\n",
        "        a = c\n",
        "    else:\n",
        "        b = c\n",
        "    # Точка, де хорда перетинає вісь 0x\n",
        "    c = (f(a)*b-a*f(b))/(f(a)-f(b))\n",
        "    # Зберігаємо результати обчислень\n",
        "    data_A.append(a)\n",
        "    data_B.append(b)\n",
        "    data_C.append(c)\n",
        "    data_F_A.append(f(a))\n",
        "    data_F_B.append(f(b))\n",
        "    data_F_C.append(f(c))\n",
        "# Відображаємо результати обчислень\n",
        "print('Результати обчислень')\n",
        "print()\n",
        "data = pd.DataFrame({'a': data_A, 'F(a)': data_F_A,\n",
        "                     'c': data_C, 'F(c)': data_F_C,\n",
        "                     'b': data_B, 'F(b)': data_F_B})\n",
        "print(data)\n",
        "# Відображаємо наближений корінь рівняння\n",
        "print()\n",
        "print('В точці с = ', c, ', f(c) = ', f(c))"
      ],
      "metadata": {
        "colab": {
          "base_uri": "https://localhost:8080/"
        },
        "id": "3p6i5xHK1y3l",
        "outputId": "f767e6d7-0040-458b-8fda-257d67dd3a7c"
      },
      "execution_count": 24,
      "outputs": [
        {
          "output_type": "stream",
          "name": "stdout",
          "text": [
            "Результати обчислень\n",
            "\n",
            "          a      F(a)         c      F(c)         b      F(b)\n",
            "0 -3.000000  0.977954 -1.634717  0.129889 -1.000000 -0.454649\n",
            "1 -1.634717  0.129889 -1.493678 -0.133455 -1.000000 -0.454649\n",
            "2 -1.634717  0.129889 -1.565152 -0.010636 -1.493678 -0.133455\n",
            "3 -1.634717  0.129889 -1.570418 -0.000718 -1.565152 -0.010636\n",
            "4 -1.634717  0.129889 -1.570771 -0.000048 -1.570418 -0.000718\n",
            "\n",
            "В точці с =  -1.5707710718865344 , f(c) =  -4.78972138191645e-05\n"
          ]
        }
      ]
    },
    {
      "cell_type": "markdown",
      "source": [
        "4. Метод Ньютона (дотичних)"
      ],
      "metadata": {
        "id": "40blPBSK2Cdm"
      }
    },
    {
      "cell_type": "code",
      "source": [
        "import numpy as np\n",
        "import pandas as pd\n",
        "# Визначаємо функцію\n",
        "def f(x):\n",
        "    y = np.cos(x)*np.sin(x)*(x**2+x+1)\n",
        "    return y\n",
        "# Визначаємо першу похідну\n",
        "def df(x):\n",
        "    y1 = -(x**2+x+1)*(np.sin(x))**2\n",
        "    y2 = (x**2+x+1)*(np.cos(x))**2\n",
        "    y3 = (2*x+1)*np.sin(x)*np.cos(x)\n",
        "    y = y1+y2+y3\n",
        "    return y\n",
        "# Визначаємо початкову точку\n",
        "c = -1.4\n",
        "# Визначаємо точність розв'язку\n",
        "h = 0.001\n",
        "# Зберігаємо результати обчислень\n",
        "data_C = [c]\n",
        "data_F_C = [f(c)]\n",
        "# Перевіряємо досягнення точності\n",
        "while abs(f(c)) > h:\n",
        "    # Точка, де дотична перетинає вісь 0x\n",
        "    c -= f(c)/df(c)\n",
        "    # Зберігаємо результати обчислень\n",
        "    data_C.append(c)\n",
        "    data_F_C.append(f(c))\n",
        "# Відображаємо результати обчислень\n",
        "print('Результати обчислень')\n",
        "print()\n",
        "data = pd.DataFrame({'c': data_C, 'F(c)': data_F_C})\n",
        "print(data)\n",
        "# Відображаємо наближений корінь рівняння\n",
        "print()\n",
        "print('В точці с = ', c, ', f(c) = ', f(c))"
      ],
      "metadata": {
        "colab": {
          "base_uri": "https://localhost:8080/"
        },
        "id": "WeGQjbjW2HDz",
        "outputId": "7fd55bf4-4d4c-43ea-ce09-3fbf365aa5c5"
      },
      "execution_count": null,
      "outputs": [
        {
          "output_type": "stream",
          "name": "stdout",
          "text": [
            "Результати обчислень\n",
            "\n",
            "          c      F(c)\n",
            "0 -1.400000 -0.261291\n",
            "1 -1.623636  0.106144\n",
            "2 -1.573564  0.005266\n",
            "3 -1.570805  0.000016\n",
            "\n",
            "В точці с =  -1.5708049170979717 , f(c) =  1.6292567852764437e-05\n"
          ]
        }
      ]
    },
    {
      "cell_type": "markdown",
      "source": [
        "5. Метод Ньютона (дотичних)"
      ],
      "metadata": {
        "id": "qjI38bTp0xCo"
      }
    },
    {
      "cell_type": "code",
      "source": [
        "import numpy as np\n",
        "import scipy.optimize as sp\n",
        "\n",
        "def f(x):\n",
        "    y = np.cos(x)*np.sin(x)*(x**2+x+1)\n",
        "    return y\n",
        "\n",
        "def df(x):# Обчислення похідної\n",
        "    y1 = -(x**2+x+1)*(np.sin(x))**2\n",
        "    y2 = (x**2+x+1)*(np.cos(x))**2\n",
        "    y3 = (2*x+1)*np.sin(x)*np.cos(x)\n",
        "    y = y1+y2+y3\n",
        "    return y\n",
        "\n",
        "x0 = -1.4\n",
        "x1 = 1.4\n",
        "\n",
        "x_0 = sp.newton(f, x0, df, tol=1.e-3, maxiter=50)\n",
        "x_1 = sp.newton(f, x1, df, tol=1.e-3, maxiter=50)\n",
        "\n",
        "print('The approximate solution x is:', x_0)\n",
        "print('And the value f(x_0) is:', f(x_0))\n",
        "\n",
        "print('The approximate solution x is:', x_1)\n",
        "print('And the value f(x_0) is:', f(x_1))"
      ],
      "metadata": {
        "colab": {
          "base_uri": "https://localhost:8080/"
        },
        "id": "AonZxq_H0m6-",
        "outputId": "7acab5b7-6894-4cb1-b0d3-217d498bae02"
      },
      "execution_count": null,
      "outputs": [
        {
          "output_type": "stream",
          "name": "stdout",
          "text": [
            "The approximate solution x is: -1.5707963268782201\n",
            "And the value f(x_0) is: 1.5803176499052036e-10\n",
            "The approximate solution x is: 1.5707963267958693\n",
            "And the value f(x_0) is: -4.9007361645997675e-12\n"
          ]
        }
      ]
    },
    {
      "cell_type": "markdown",
      "source": [
        " # Знаходження коренів рівняння за допомогою бібліотеки SymPy"
      ],
      "metadata": {
        "id": "pvK9N9TH1QD-"
      }
    },
    {
      "cell_type": "code",
      "source": [
        "import sympy as sym\n",
        "\n",
        "x = sym.Symbol('x')\n",
        "\n",
        "y = sym.cos(x)*sym.sin(x)*(x**2+x+1)\n",
        "\n",
        "s = sym.solve(y)\n",
        "\n",
        "print(s)"
      ],
      "metadata": {
        "colab": {
          "base_uri": "https://localhost:8080/"
        },
        "id": "PuAp1WCr08qt",
        "outputId": "36c578b1-b0b4-40d5-8142-44bf252e747d"
      },
      "execution_count": null,
      "outputs": [
        {
          "output_type": "stream",
          "name": "stdout",
          "text": [
            "[0, pi/2, pi, 3*pi/2, -1/2 - sqrt(3)*I/2, -1/2 + sqrt(3)*I/2]\n"
          ]
        }
      ]
    },
    {
      "cell_type": "code",
      "source": [
        "import sympy as sym\n",
        "\n",
        "x, a, b, c = sym.symbols('x, a, b, c')\n",
        "\n",
        "y = a * x**2 + b * x + c\n",
        "\n",
        "s = sym.solve(y, x)\n",
        "\n",
        "print(s)"
      ],
      "metadata": {
        "colab": {
          "base_uri": "https://localhost:8080/"
        },
        "id": "Y0d-uHtp1c7r",
        "outputId": "42a681c2-3c44-4db2-dbe7-7c1615e9bbe9"
      },
      "execution_count": null,
      "outputs": [
        {
          "output_type": "stream",
          "name": "stdout",
          "text": [
            "[(-b - sqrt(-4*a*c + b**2))/(2*a), (-b + sqrt(-4*a*c + b**2))/(2*a)]\n"
          ]
        }
      ]
    },
    {
      "cell_type": "markdown",
      "source": [],
      "metadata": {
        "id": "mk1oBvYj1GC2"
      }
    },
    {
      "cell_type": "code",
      "source": [
        "!pip install numdifftools"
      ],
      "metadata": {
        "colab": {
          "base_uri": "https://localhost:8080/"
        },
        "id": "yiLJNuM3Cq0-",
        "outputId": "8b520ade-f158-4b6d-b02f-0c9f647ffafe"
      },
      "execution_count": 2,
      "outputs": [
        {
          "output_type": "stream",
          "name": "stdout",
          "text": [
            "Collecting numdifftools\n",
            "  Downloading numdifftools-0.9.41-py2.py3-none-any.whl.metadata (39 kB)\n",
            "Requirement already satisfied: numpy>=1.9 in /usr/local/lib/python3.12/dist-packages (from numdifftools) (2.0.2)\n",
            "Requirement already satisfied: scipy>=0.8 in /usr/local/lib/python3.12/dist-packages (from numdifftools) (1.16.1)\n",
            "Downloading numdifftools-0.9.41-py2.py3-none-any.whl (100 kB)\n",
            "\u001b[?25l   \u001b[90m━━━━━━━━━━━━━━━━━━━━━━━━━━━━━━━━━━━━━━━━\u001b[0m \u001b[32m0.0/100.2 kB\u001b[0m \u001b[31m?\u001b[0m eta \u001b[36m-:--:--\u001b[0m\r\u001b[2K   \u001b[90m━━━━━━━━━━━━━━━━━━━━━━━━━━━━━━━━━━━━━━━━\u001b[0m \u001b[32m100.2/100.2 kB\u001b[0m \u001b[31m6.1 MB/s\u001b[0m eta \u001b[36m0:00:00\u001b[0m\n",
            "\u001b[?25hInstalling collected packages: numdifftools\n",
            "Successfully installed numdifftools-0.9.41\n"
          ]
        }
      ]
    },
    {
      "cell_type": "code",
      "source": [
        "#Лабораторна робота 2\n",
        "#Відокремлення коренів\n",
        "import numpy as np\n",
        "import numdifftools as nd\n",
        "\n",
        "def f(x):\n",
        "    return 2 * x**4 - 2 * x**3 - 4* x**2 + 6 * x + 5\n",
        "\n",
        "\n",
        "def find_segments(): #відокремлюємо корені\n",
        "    search_range = np.arange(-5, 5, 1)\n",
        "\n",
        "    a = None\n",
        "    previous_x = None\n",
        "    current_x  = None\n",
        "    segments = []\n",
        "\n",
        "    for x in search_range:\n",
        "        x = round(x, 4)\n",
        "        current_x = f(x)\n",
        "        if previous_x != None and previous_x * current_x < 0:\n",
        "            segments.append((a, x))\n",
        "        a = x\n",
        "        previous_x = current_x\n",
        "    return segments\n",
        "\n",
        "segments = find_segments()\n",
        "for a, b in segments:\n",
        "    print(f'Found segment:  [{a}, {b}]')\n"
      ],
      "metadata": {
        "colab": {
          "base_uri": "https://localhost:8080/"
        },
        "id": "L-9dn4npCso-",
        "outputId": "59733144-1585-4db6-b35f-05cce758b206"
      },
      "execution_count": 38,
      "outputs": [
        {
          "output_type": "stream",
          "name": "stdout",
          "text": [
            "Found segment:  [-2, -1]\n",
            "Found segment:  [-1, 0]\n"
          ]
        }
      ]
    },
    {
      "cell_type": "code",
      "source": [
        "import numpy as np\n",
        "import matplotlib.pyplot as plt\n",
        "\n",
        "# Визначення функції\n",
        "def f(x):\n",
        "    return 2 * x**4 - 2 * x**3 - 4* x**2 + 6 * x + 5\n",
        "\n",
        "# Генерація значень x\n",
        "x = np.linspace(-5, 5, 100)\n",
        "\n",
        "# Генерація значень y\n",
        "y = f(x)\n",
        "\n",
        "# Побудова графіка\n",
        "plt.figure(figsize=(8, 6))\n",
        "plt.plot(x, y, label='2x^4 - 2x^3 - 4x^2 + 6x + 5', color='blue')\n",
        "plt.title('Графік функції 2x^4 - 2x^3 - 4x^2 + 6x + 5')\n",
        "plt.xlabel('x')\n",
        "plt.ylabel('f(x)')\n",
        "\n",
        "# Додавання осей з стрілками\n",
        "plt.axhline(0, color='black', linewidth=0.5)\n",
        "plt.axvline(0, color='black', linewidth=0.5)\n",
        "\n",
        "plt.text(2.05, -4, 'x', ha='center', va='center')\n",
        "plt.text(-0.3, 190, 'y', ha='center', va='center')\n",
        "\n",
        "plt.grid(True)\n",
        "plt.legend()\n",
        "plt.show()\n"
      ],
      "metadata": {
        "colab": {
          "base_uri": "https://localhost:8080/",
          "height": 564
        },
        "id": "7zUI3d1xZXar",
        "outputId": "04496704-ac17-4ca0-d174-14f6c2eee806"
      },
      "execution_count": 51,
      "outputs": [
        {
          "output_type": "display_data",
          "data": {
            "text/plain": [
              "<Figure size 800x600 with 1 Axes>"
            ],
            "image/png": "[encoded data removed]"
          },
          "metadata": {}
        }
      ]
    },
    {
      "cell_type": "markdown",
      "source": [
        "![image.png](data:image/png;base64,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)"
      ],
      "metadata": {
        "id": "o3dJ4262nQF5"
      }
    },
    {
      "cell_type": "code",
      "source": [
        "#Лабораторна робота. Метод половинного ділення, хорд\n",
        "\n",
        "\n",
        "def rec(a, b, eps):  # метод половинного ділення\n",
        "    while (abs(a - b) > eps):\n",
        "        if f(a) * f((a + b) / 2) < 0:\n",
        "            b = (a + b) / 2\n",
        "        else:\n",
        "            a = (a + b) / 2\n",
        "        x = (a + b) / 2\n",
        "\n",
        "    print('x= ', round(x, 5), '  -   Half division method')\n"
      ],
      "metadata": {
        "id": "BgjK94O9Cfxe"
      },
      "execution_count": 52,
      "outputs": []
    },
    {
      "cell_type": "code",
      "source": [
        "def hord(a, b, eps):  # метод хорд\n",
        "    x0, xi = a, b\n",
        "    xi_1 = xi - (xi - x0) * f(xi) / (f(xi) - f(x0))\n",
        "    while (abs(xi_1 - xi) > eps):\n",
        "        xi = xi_1\n",
        "        xi_1 = xi - (xi - x0) * f(xi) / (f(xi) - f(x0))\n",
        "    print('x= ', round(xi_1, 5), '  -   Chord method')\n",
        "\n"
      ],
      "metadata": {
        "id": "Sz_KWVf7D2tL"
      },
      "execution_count": 53,
      "outputs": []
    },
    {
      "cell_type": "code",
      "source": [
        "if __name__ == \"__main__\":\n",
        "    a1, b1 = -2, -1\n",
        "    a2, b2 = -1, 0\n",
        "    eps = 0.0001\n",
        "    print(\"Розв'язки на відрізку [-2,-1]\")\n",
        "    rec(a1, b1, eps)\n",
        "    hord(a1, b1, eps)\n",
        "    print(\"\\n Розв'язки на відрізку [-1,0]\")\n",
        "    rec(a2, b2, eps)\n",
        "    hord(a2, b2, eps)"
      ],
      "metadata": {
        "id": "upx7R4yoFZj_",
        "outputId": "871df318-7ada-4160-d2cc-f9ee73b2626e",
        "colab": {
          "base_uri": "https://localhost:8080/"
        }
      },
      "execution_count": 48,
      "outputs": [
        {
          "output_type": "stream",
          "name": "stdout",
          "text": [
            "Розв'язки на відрізку [-2,-1]\n",
            "x=  -1.24564   -   Half division method\n",
            "x=  -1.2454   -   Chord method\n",
            "\n",
            " Розв'язки на відрізку [-1,0]\n",
            "x=  -0.70102   -   Half division method\n",
            "x=  -0.70101   -   Chord method\n"
          ]
        }
      ]
    }
  ]
}